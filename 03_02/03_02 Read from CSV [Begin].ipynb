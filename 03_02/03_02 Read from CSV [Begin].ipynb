{
 "cells": [
  {
   "cell_type": "markdown",
   "metadata": {},
   "source": [
    "# Credit Card Retention Analysis"
   ]
  },
  {
   "cell_type": "markdown",
   "metadata": {},
   "source": [
    "## Dataset Description"
   ]
  },
  {
   "cell_type": "markdown",
   "metadata": {},
   "source": [
    "- A manager at the bank is disturbed with more and more customers leaving their credit card services. They would really like to understand what characteristics lend themselves to someone who is going to churn so they can proactively go to the customer to provide them better services and turn customers' decisions in the opposite direction.\n",
    "\n",
    "- This dataset consists of 10,000 customers mentioning their age, salary, marital_status, credit card limit, credit card category, etc. There are nearly 18 features.\n",
    "\n",
    "- 16.07% of customers have churned.\n",
    "\n",
    "- [Dataset link](https://www.kaggle.com/datasets/whenamancodes/credit-card-customers-prediction)"
   ]
  },
  {
   "cell_type": "markdown",
   "metadata": {},
   "source": [
    "***"
   ]
  },
  {
   "cell_type": "markdown",
   "metadata": {},
   "source": [
    "## Imports"
   ]
  },
  {
   "cell_type": "code",
   "execution_count": 2,
   "metadata": {},
   "outputs": [],
   "source": [
    "import pandas as pd\n",
    "import matplotlib.pyplot as plt\n",
    "import seaborn as sns\n",
    "import numpy as np\n",
    "import plotly.graph_objs as go\n",
    "from plotly.offline import iplot\n",
    "sns.set()\n",
    "pd.options.display.max_columns = 999"
   ]
  },
  {
   "cell_type": "markdown",
   "metadata": {},
   "source": [
    "## Reading in Dataset"
   ]
  },
  {
   "cell_type": "code",
   "execution_count": 8,
   "metadata": {},
   "outputs": [],
   "source": [
    "data = pd.read_csv(\"/Users/zacharyh/PythonFiles/PracticalPythonForDataProfessionals/data/BankChurners_v2.csv\")"
   ]
  },
  {
   "cell_type": "code",
   "execution_count": 10,
   "metadata": {},
   "outputs": [
    {
     "name": "stdout",
     "output_type": "stream",
     "text": [
      "(10127, 23)\n"
     ]
    }
   ],
   "source": [
    "print(data.shape)"
   ]
  },
  {
   "cell_type": "code",
   "execution_count": 15,
   "metadata": {},
   "outputs": [
    {
     "name": "stdout",
     "output_type": "stream",
     "text": [
      "   CLIENTNUM     Attrition_Flag  Customer_Age Gender  Dependent_count  \\\n",
      "0      90032  Existing Customer            45      M                3   \n",
      "1      90033  Existing Customer            49      F                5   \n",
      "2      90034  Existing Customer            51      M                3   \n",
      "3      90035  Existing Customer            40      F                4   \n",
      "4      90036  Existing Customer            40      M                3   \n",
      "\n",
      "  Education_Level Marital_Status Income_Category Card_Category  \\\n",
      "0     High School        Married     $60K - $80K          Blue   \n",
      "1        Graduate         Single  Less than $40K          Blue   \n",
      "2        Graduate        Married    $80K - $120K          Blue   \n",
      "3     High School            NaN  Less than $40K          Blue   \n",
      "4      Uneducated        Married     $60K - $80K          Blue   \n",
      "\n",
      "   Months_on_book  Total_Relationship_Count  Months_Inactive_12_mon  \\\n",
      "0              39                         5                       1   \n",
      "1              44                         6                       1   \n",
      "2              36                         4                       1   \n",
      "3              34                         3                       4   \n",
      "4              21                         5                       1   \n",
      "\n",
      "   Contacts_Count_12_mon  Credit_Limit  Total_Revolving_Bal  Avg_Open_To_Buy  \\\n",
      "0                      3       12691.0                  777          11914.0   \n",
      "1                      2        8256.0                  864           7392.0   \n",
      "2                      0        3418.0                    0           3418.0   \n",
      "3                      1        3313.0                 2517            796.0   \n",
      "4                      0        4716.0                    0           4716.0   \n",
      "\n",
      "   Total_Amt_Chng_Q4_Q1  Total_Trans_Amt  Total_Trans_Ct  Total_Ct_Chng_Q4_Q1  \\\n",
      "0                 1.335             1144              42                1.625   \n",
      "1                 1.541             1291              33                3.714   \n",
      "2                 2.594             1887              20                2.333   \n",
      "3                 1.405             1171              20                2.333   \n",
      "4                 2.175              816              28                2.500   \n",
      "\n",
      "   Avg_Utilization_Ratio  \\\n",
      "0                  0.061   \n",
      "1                  0.105   \n",
      "2                  0.000   \n",
      "3                  0.760   \n",
      "4                  0.000   \n",
      "\n",
      "   Naive_Bayes_Classifier_Attrition_Flag_Card_Category_Contacts_Count_12_mon_Dependent_count_Education_Level_Months_Inactive_12_mon_1  \\\n",
      "0                                           0.000093                                                                                    \n",
      "1                                           0.000057                                                                                    \n",
      "2                                           0.000021                                                                                    \n",
      "3                                           0.000134                                                                                    \n",
      "4                                           0.000022                                                                                    \n",
      "\n",
      "   Naive_Bayes_Classifier_Attrition_Flag_Card_Category_Contacts_Count_12_mon_Dependent_count_Education_Level_Months_Inactive_12_mon_2  \n",
      "0                                            0.99991                                                                                   \n",
      "1                                            0.99994                                                                                   \n",
      "2                                            0.99998                                                                                   \n",
      "3                                            0.99987                                                                                   \n",
      "4                                            0.99998                                                                                   \n"
     ]
    }
   ],
   "source": [
    "print(data.head())"
   ]
  },
  {
   "cell_type": "code",
   "execution_count": 14,
   "metadata": {},
   "outputs": [
    {
     "name": "stdout",
     "output_type": "stream",
     "text": [
      "Index(['CLIENTNUM', 'Attrition_Flag', 'Customer_Age', 'Gender',\n",
      "       'Dependent_count', 'Education_Level', 'Marital_Status',\n",
      "       'Income_Category', 'Card_Category', 'Months_on_book',\n",
      "       'Total_Relationship_Count', 'Months_Inactive_12_mon',\n",
      "       'Contacts_Count_12_mon', 'Credit_Limit', 'Total_Revolving_Bal',\n",
      "       'Avg_Open_To_Buy', 'Total_Amt_Chng_Q4_Q1', 'Total_Trans_Amt',\n",
      "       'Total_Trans_Ct', 'Total_Ct_Chng_Q4_Q1', 'Avg_Utilization_Ratio',\n",
      "       'Naive_Bayes_Classifier_Attrition_Flag_Card_Category_Contacts_Count_12_mon_Dependent_count_Education_Level_Months_Inactive_12_mon_1',\n",
      "       'Naive_Bayes_Classifier_Attrition_Flag_Card_Category_Contacts_Count_12_mon_Dependent_count_Education_Level_Months_Inactive_12_mon_2'],\n",
      "      dtype='object')\n"
     ]
    }
   ],
   "source": [
    "print(data.columns)"
   ]
  },
  {
   "cell_type": "markdown",
   "metadata": {},
   "source": [
    "1) `data.shape` \n",
    "\n",
    "2) `data.head()` \n",
    "\n",
    "3) `data.columns` "
   ]
  }
 ],
 "metadata": {
  "kernelspec": {
   "display_name": "Python 3",
   "language": "python",
   "name": "python3"
  },
  "language_info": {
   "codemirror_mode": {
    "name": "ipython",
    "version": 3
   },
   "file_extension": ".py",
   "mimetype": "text/x-python",
   "name": "python",
   "nbconvert_exporter": "python",
   "pygments_lexer": "ipython3",
   "version": "3.9.6"
  }
 },
 "nbformat": 4,
 "nbformat_minor": 4
}
